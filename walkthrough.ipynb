{
 "cells": [
  {
   "cell_type": "markdown",
   "source": [
    "# Analog bit project walkthrough"
   ],
   "metadata": {
    "collapsed": false
   }
  },
  {
   "cell_type": "code",
   "execution_count": 1,
   "outputs": [],
   "source": [
    "# imports\n",
    "import numpy as np\n",
    "import matplotlib.pyplot as plt\n",
    "try:\n",
    "    from tueplots import bundles\n",
    "    plt.rcParams.update(bundles.neurips2022())\n",
    "except ModuleNotFoundError:\n",
    "    pass\n",
    "%load_ext autoreload\n",
    "%autoreload 2"
   ],
   "metadata": {
    "collapsed": false
   }
  },
  {
   "cell_type": "markdown",
   "source": [
    "## How to generate the data\n",
    "\n",
    "Several ways to create data, only one generator is implemented, the ```flags``` dataset"
   ],
   "metadata": {
    "collapsed": false
   }
  },
  {
   "cell_type": "code",
   "execution_count": 28,
   "outputs": [],
   "source": [
    "# imports\n",
    "from utils.data_gen import get_data_gen"
   ],
   "metadata": {
    "collapsed": false
   }
  },
  {
   "cell_type": "code",
   "execution_count": 30,
   "outputs": [],
   "source": [
    "generate_data = get_data_gen('flags', (3,8), 10, rgb=True)"
   ],
   "metadata": {
    "collapsed": false
   }
  },
  {
   "cell_type": "code",
   "execution_count": 25,
   "outputs": [],
   "source": [
    "data = generate_data()"
   ],
   "metadata": {
    "collapsed": false
   }
  },
  {
   "cell_type": "code",
   "execution_count": 26,
   "outputs": [
    {
     "data": {
      "text/plain": "(10, 3, 8, 3)"
     },
     "execution_count": 26,
     "metadata": {},
     "output_type": "execute_result"
    }
   ],
   "source": [
    "data.shape"
   ],
   "metadata": {
    "collapsed": false
   }
  },
  {
   "cell_type": "code",
   "execution_count": 31,
   "outputs": [
    {
     "data": {
      "text/plain": "<Figure size 550x339.919 with 1 Axes>",
      "image/png": "[encoded data removed]"
     },
     "metadata": {},
     "output_type": "display_data"
    }
   ],
   "source": [
    "from matplotlib import ticker\n",
    "\n",
    "plt.imshow(data[5])\n",
    "plt.title('A sample of the flag dataset', fontsize=16)\n",
    "ax = plt.gca()\n",
    "ax.xaxis.set_major_locator(ticker.NullLocator())\n",
    "_ = ax.yaxis.set_major_locator(ticker.NullLocator())"
   ],
   "metadata": {
    "collapsed": false
   }
  },
  {
   "cell_type": "markdown",
   "source": [
    "## Convert to bits"
   ],
   "metadata": {
    "collapsed": false
   }
  },
  {
   "cell_type": "code",
   "execution_count": 32,
   "outputs": [
    {
     "name": "stderr",
     "output_type": "stream",
     "text": [
      "2023-05-12 15:45:25.510257: I tensorflow/core/common_runtime/process_util.cc:146] Creating new thread pool with default inter op setting: 2. Tune using inter_op_parallelism_threads for best performance.\n"
     ]
    }
   ],
   "source": [
    "from utils.bit_encoding import rgb2bit, get_x_channels\n",
    "\n",
    "b_type = 'uint8'\n",
    "channels = get_x_channels(b_type)\n",
    "dataset_bits = rgb2bit(images=data, b_type=b_type, b_scale=1.0, x_channels=channels)"
   ],
   "metadata": {
    "collapsed": false
   }
  },
  {
   "cell_type": "code",
   "execution_count": 38,
   "outputs": [
    {
     "name": "stdout",
     "output_type": "stream",
     "text": [
      "(Number of samples, height, width, analogbits) = (10, 3, 8, 24)\n"
     ]
    }
   ],
   "source": [
    "print(\"(Number of samples, height, width, analogbits) =\", dataset_bits.shape)"
   ],
   "metadata": {
    "collapsed": false
   }
  },
  {
   "cell_type": "markdown",
   "source": [
    "## Define noise and denoiser step"
   ],
   "metadata": {
    "collapsed": false
   }
  },
  {
   "cell_type": "code",
   "execution_count": 39,
   "outputs": [],
   "source": [
    "from utils.diffusion_utils import noise"
   ],
   "metadata": {
    "collapsed": false
   }
  },
  {
   "cell_type": "code",
   "execution_count": null,
   "outputs": [],
   "source": [
    "def train_loss(x):\n",
    "    \"\"\"Return the loss value for an input batch\"\"\"\n",
    "    x_bits = rgb2bit(x, b_type=b_type, b_scale=1.0, x_channels=channels)\n",
    "    ndim = x_bits[0,:].ravel.shape[0]\n",
    "    t = np.random.uniform(size=[x_bits.shape[0] + [1]*(ndim-1)])\n",
    "    x_crypt = noise()"
   ],
   "metadata": {
    "collapsed": false
   }
  }
 ],
 "metadata": {
  "kernelspec": {
   "display_name": "Python 3",
   "language": "python",
   "name": "python3"
  },
  "language_info": {
   "codemirror_mode": {
    "name": "ipython",
    "version": 2
   },
   "file_extension": ".py",
   "mimetype": "text/x-python",
   "name": "python",
   "nbconvert_exporter": "python",
   "pygments_lexer": "ipython2",
   "version": "2.7.6"
  }
 },
 "nbformat": 4,
 "nbformat_minor": 0
}
