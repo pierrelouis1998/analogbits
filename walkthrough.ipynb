{
 "cells": [
  {
   "cell_type": "markdown",
   "source": [
    "# Analog bit project walkthrough"
   ],
   "metadata": {
    "collapsed": false
   }
  },
  {
   "cell_type": "code",
   "execution_count": 1,
   "outputs": [
    {
     "name": "stderr",
     "output_type": "stream",
     "text": [
      "2023-05-15 15:12:11.809183: I tensorflow/core/platform/cpu_feature_guard.cc:182] This TensorFlow binary is optimized to use available CPU instructions in performance-critical operations.\n",
      "To enable the following instructions: SSE4.1 SSE4.2 AVX AVX2 FMA, in other operations, rebuild TensorFlow with the appropriate compiler flags.\n"
     ]
    }
   ],
   "source": [
    "# imports\n",
    "import numpy as np\n",
    "import matplotlib.pyplot as plt\n",
    "import tensorflow as tf\n",
    "tf.config.run_functions_eagerly(True)\n",
    "try:\n",
    "    from tueplots import bundles\n",
    "    plt.rcParams.update(bundles.neurips2022())\n",
    "except ModuleNotFoundError:\n",
    "    pass\n",
    "%load_ext autoreload\n",
    "%autoreload 2"
   ],
   "metadata": {
    "collapsed": false
   }
  },
  {
   "cell_type": "markdown",
   "source": [
    "## How to generate the data\n",
    "\n",
    "Several ways to create data, only one generator is implemented, the ```flags``` dataset"
   ],
   "metadata": {
    "collapsed": false
   }
  },
  {
   "cell_type": "code",
   "execution_count": 2,
   "outputs": [],
   "source": [
    "# imports\n",
    "from utils.data_gen import get_data_gen"
   ],
   "metadata": {
    "collapsed": false
   }
  },
  {
   "cell_type": "code",
   "execution_count": 3,
   "outputs": [],
   "source": [
    "generate_train_data = get_data_gen('flags', (3,8), 100, rgb=True)\n",
    "generate_test_data = get_data_gen('flags', (3,8), 20, rgb=True)"
   ],
   "metadata": {
    "collapsed": false
   }
  },
  {
   "cell_type": "code",
   "execution_count": 4,
   "outputs": [],
   "source": [
    "train_data = generate_train_data()\n",
    "test_data = generate_test_data()"
   ],
   "metadata": {
    "collapsed": false
   }
  },
  {
   "cell_type": "code",
   "execution_count": 5,
   "outputs": [
    {
     "data": {
      "text/plain": "(100, 3, 8, 3)"
     },
     "execution_count": 5,
     "metadata": {},
     "output_type": "execute_result"
    }
   ],
   "source": [
    "train_data.shape"
   ],
   "metadata": {
    "collapsed": false
   }
  },
  {
   "cell_type": "code",
   "execution_count": 6,
   "outputs": [
    {
     "data": {
      "text/plain": "<Figure size 550x339.919 with 1 Axes>",
      "image/png": "[encoded data removed]"
     },
     "metadata": {},
     "output_type": "display_data"
    }
   ],
   "source": [
    "from utils.display import show_flag\n",
    "show_flag(train_data[2])"
   ],
   "metadata": {
    "collapsed": false
   }
  },
  {
   "cell_type": "markdown",
   "source": [
    "## Fake predictor task\n",
    "\n",
    "To test our model, we will create a false ground truth"
   ],
   "metadata": {
    "collapsed": false
   }
  },
  {
   "cell_type": "code",
   "execution_count": 7,
   "outputs": [],
   "source": [
    "# Fake ground truth\n",
    "def invert_color(data : np.ndarray):\n",
    "    \"\"\"Invert the color of RGB channels\"\"\"\n",
    "    return 255 - data\n",
    "train_ground_truth = invert_color(train_data)\n",
    "test_ground_truth = invert_color(test_data)"
   ],
   "metadata": {
    "collapsed": false
   }
  },
  {
   "cell_type": "code",
   "execution_count": 8,
   "outputs": [
    {
     "data": {
      "text/plain": "<Figure size 550x339.919 with 1 Axes>",
      "image/png": "[encoded data removed]"
     },
     "metadata": {},
     "output_type": "display_data"
    }
   ],
   "source": [
    "show_flag(train_ground_truth[2])"
   ],
   "metadata": {
    "collapsed": false
   }
  },
  {
   "cell_type": "markdown",
   "source": [
    "## Convert to bits"
   ],
   "metadata": {
    "collapsed": false
   }
  },
  {
   "cell_type": "code",
   "execution_count": 9,
   "outputs": [
    {
     "name": "stderr",
     "output_type": "stream",
     "text": [
      "2023-05-15 15:12:15.237103: I tensorflow/core/common_runtime/process_util.cc:146] Creating new thread pool with default inter op setting: 2. Tune using inter_op_parallelism_threads for best performance.\n"
     ]
    }
   ],
   "source": [
    "from utils.bit_encoding import rgb2bit, get_x_channels\n",
    "\n",
    "b_type = 'uint8'\n",
    "channels = get_x_channels(b_type)\n",
    "kwargs = {'b_type': b_type, 'b_scale': 1.0, 'x_channels': channels}\n",
    "train_data_bits = rgb2bit(images=train_data, **kwargs)\n",
    "gt_train_data_bits = rgb2bit(images=train_ground_truth, **kwargs)\n",
    "test_data_bits = rgb2bit(images=test_data, **kwargs)\n",
    "gt_test_data_bits = rgb2bit(images=test_ground_truth, **kwargs)"
   ],
   "metadata": {
    "collapsed": false
   }
  },
  {
   "cell_type": "code",
   "execution_count": 10,
   "outputs": [
    {
     "name": "stdout",
     "output_type": "stream",
     "text": [
      "(Number of samples, height, width, analogbits) = (100, 3, 8, 24)\n"
     ]
    }
   ],
   "source": [
    "print(\"(Number of samples, height, width, analogbits) =\", train_data_bits.shape)"
   ],
   "metadata": {
    "collapsed": false
   }
  },
  {
   "cell_type": "markdown",
   "source": [
    "## Define noise and denoiser step"
   ],
   "metadata": {
    "collapsed": false
   }
  },
  {
   "cell_type": "code",
   "execution_count": 11,
   "outputs": [],
   "source": [
    "from models.dummy_model import get_model\n",
    "input_shape = train_data_bits.shape[1:]\n",
    "model = get_model(input_shape=input_shape)"
   ],
   "metadata": {
    "collapsed": false
   }
  },
  {
   "cell_type": "code",
   "execution_count": 12,
   "outputs": [
    {
     "data": {
      "text/plain": "TensorShape([100, 3, 8, 24])"
     },
     "execution_count": 12,
     "metadata": {},
     "output_type": "execute_result"
    }
   ],
   "source": [
    "model(train_data_bits).shape"
   ],
   "metadata": {
    "collapsed": false
   }
  },
  {
   "cell_type": "code",
   "execution_count": 13,
   "outputs": [],
   "source": [
    "train_dataset_bits = tf.data.Dataset.from_tensor_slices(train_data_bits)\n",
    "gt_train_dataset_bits = tf.data.Dataset.from_tensor_slices(gt_train_data_bits)\n",
    "test_dataset_bits = tf.data.Dataset.from_tensor_slices(test_data_bits)\n",
    "gt_test_datasets_bits = tf.data.Dataset.from_tensor_slices(gt_test_data_bits)"
   ],
   "metadata": {
    "collapsed": false
   }
  },
  {
   "cell_type": "code",
   "execution_count": 14,
   "outputs": [],
   "source": [
    "loss_fn = tf.keras.losses.MeanAbsoluteError()"
   ],
   "metadata": {
    "collapsed": false
   }
  },
  {
   "cell_type": "code",
   "execution_count": 15,
   "outputs": [
    {
     "name": "stdout",
     "output_type": "stream",
     "text": [
      "Loss test: 1.0013221502304077\n"
     ]
    },
    {
     "name": "stderr",
     "output_type": "stream",
     "text": [
      "2023-05-15 15:12:15.748018: I tensorflow/core/common_runtime/executor.cc:1197] [/device:CPU:0] (DEBUG INFO) Executor start aborting (this does not indicate an error and you can ignore this message): INVALID_ARGUMENT: You must feed a value for placeholder tensor 'Placeholder/_0' with dtype float and shape [100,3,8,24]\n",
      "\t [[{{node Placeholder/_0}}]]\n",
      "2023-05-15 15:12:15.756131: I tensorflow/core/common_runtime/executor.cc:1197] [/device:CPU:0] (DEBUG INFO) Executor start aborting (this does not indicate an error and you can ignore this message): INVALID_ARGUMENT: You must feed a value for placeholder tensor 'Placeholder/_0' with dtype float and shape [100,3,8,24]\n",
      "\t [[{{node Placeholder/_0}}]]\n"
     ]
    }
   ],
   "source": [
    "features = next(iter(train_dataset_bits.batch(32)))\n",
    "ground_truth = next(iter(gt_train_dataset_bits.batch(32)))\n",
    "l = loss_fn(model(features), ground_truth)\n",
    "print(\"Loss test: {}\".format(l))"
   ],
   "metadata": {
    "collapsed": false
   }
  },
  {
   "cell_type": "code",
   "execution_count": 16,
   "outputs": [],
   "source": [
    "optimizer = tf.keras.optimizers.Adam(learning_rate=0.01)"
   ],
   "metadata": {
    "collapsed": false
   }
  },
  {
   "cell_type": "code",
   "execution_count": 17,
   "outputs": [],
   "source": [
    "training_dataset = tf.data.Dataset.zip((train_dataset_bits, gt_train_dataset_bits))"
   ],
   "metadata": {
    "collapsed": false
   }
  },
  {
   "cell_type": "code",
   "execution_count": 18,
   "outputs": [],
   "source": [
    "model.compile(\n",
    "    optimizer=optimizer,\n",
    "    loss=loss_fn\n",
    ")"
   ],
   "metadata": {
    "collapsed": false
   }
  },
  {
   "cell_type": "code",
   "execution_count": 19,
   "outputs": [
    {
     "name": "stdout",
     "output_type": "stream",
     "text": [
      "Epoch 1/200\n",
      "3/4 [=====================>........] - ETA: 0s - loss: 0.9939"
     ]
    },
    {
     "name": "stderr",
     "output_type": "stream",
     "text": [
      "2023-05-15 15:12:15.992690: I tensorflow/core/common_runtime/executor.cc:1197] [/device:CPU:0] (DEBUG INFO) Executor start aborting (this does not indicate an error and you can ignore this message): INVALID_ARGUMENT: You must feed a value for placeholder tensor 'Placeholder/_2' with dtype float and shape [100,3,8,24]\n",
      "\t [[{{node Placeholder/_2}}]]\n"
     ]
    },
    {
     "name": "stdout",
     "output_type": "stream",
     "text": [
      "4/4 [==============================] - 0s 32ms/step - loss: 0.9941\n",
      "Epoch 2/200\n",
      "4/4 [==============================] - 0s 31ms/step - loss: 0.9511\n",
      "Epoch 3/200\n",
      "4/4 [==============================] - 0s 31ms/step - loss: 0.9191\n",
      "Epoch 4/200\n",
      "4/4 [==============================] - 0s 30ms/step - loss: 0.8890\n",
      "Epoch 5/200\n",
      "4/4 [==============================] - 0s 30ms/step - loss: 0.8661\n",
      "Epoch 6/200\n",
      "4/4 [==============================] - 0s 38ms/step - loss: 0.8458\n",
      "Epoch 7/200\n",
      "4/4 [==============================] - 0s 37ms/step - loss: 0.8301\n",
      "Epoch 8/200\n",
      "4/4 [==============================] - 0s 31ms/step - loss: 0.8175\n",
      "Epoch 9/200\n",
      "4/4 [==============================] - 0s 30ms/step - loss: 0.8054\n",
      "Epoch 10/200\n",
      "4/4 [==============================] - 0s 28ms/step - loss: 0.7953\n",
      "Epoch 11/200\n",
      "4/4 [==============================] - 0s 28ms/step - loss: 0.7862\n",
      "Epoch 12/200\n",
      "4/4 [==============================] - 0s 28ms/step - loss: 0.7791\n",
      "Epoch 13/200\n",
      "4/4 [==============================] - 0s 30ms/step - loss: 0.7715\n",
      "Epoch 14/200\n",
      "4/4 [==============================] - 0s 32ms/step - loss: 0.7647\n",
      "Epoch 15/200\n",
      "4/4 [==============================] - 0s 30ms/step - loss: 0.7581\n",
      "Epoch 16/200\n",
      "4/4 [==============================] - 0s 28ms/step - loss: 0.7522\n",
      "Epoch 17/200\n",
      "4/4 [==============================] - 0s 29ms/step - loss: 0.7462\n",
      "Epoch 18/200\n",
      "4/4 [==============================] - 0s 28ms/step - loss: 0.7392\n",
      "Epoch 19/200\n",
      "4/4 [==============================] - 0s 29ms/step - loss: 0.7313\n",
      "Epoch 20/200\n",
      "4/4 [==============================] - 0s 28ms/step - loss: 0.7245\n",
      "Epoch 21/200\n",
      "4/4 [==============================] - 0s 29ms/step - loss: 0.7184\n",
      "Epoch 22/200\n",
      "4/4 [==============================] - 0s 30ms/step - loss: 0.7129\n",
      "Epoch 23/200\n",
      "4/4 [==============================] - 0s 29ms/step - loss: 0.7079\n",
      "Epoch 24/200\n",
      "4/4 [==============================] - 0s 31ms/step - loss: 0.7024\n",
      "Epoch 25/200\n",
      "4/4 [==============================] - 0s 30ms/step - loss: 0.6967\n",
      "Epoch 26/200\n",
      "4/4 [==============================] - 0s 29ms/step - loss: 0.6928\n",
      "Epoch 27/200\n",
      "4/4 [==============================] - 0s 28ms/step - loss: 0.6875\n",
      "Epoch 28/200\n",
      "4/4 [==============================] - 0s 28ms/step - loss: 0.6824\n",
      "Epoch 29/200\n",
      "4/4 [==============================] - 0s 28ms/step - loss: 0.6799\n",
      "Epoch 30/200\n",
      "4/4 [==============================] - 0s 33ms/step - loss: 0.6760\n",
      "Epoch 31/200\n",
      "4/4 [==============================] - 0s 27ms/step - loss: 0.6721\n",
      "Epoch 32/200\n",
      "4/4 [==============================] - 0s 29ms/step - loss: 0.6699\n",
      "Epoch 33/200\n",
      "4/4 [==============================] - 0s 28ms/step - loss: 0.6662\n",
      "Epoch 34/200\n",
      "4/4 [==============================] - 0s 27ms/step - loss: 0.6645\n",
      "Epoch 35/200\n",
      "4/4 [==============================] - 0s 27ms/step - loss: 0.6615\n",
      "Epoch 36/200\n",
      "4/4 [==============================] - 0s 27ms/step - loss: 0.6605\n",
      "Epoch 37/200\n",
      "4/4 [==============================] - 0s 31ms/step - loss: 0.6574\n",
      "Epoch 38/200\n",
      "4/4 [==============================] - 0s 30ms/step - loss: 0.6553\n",
      "Epoch 39/200\n",
      "4/4 [==============================] - 0s 37ms/step - loss: 0.6545\n",
      "Epoch 40/200\n",
      "4/4 [==============================] - 0s 28ms/step - loss: 0.6534\n",
      "Epoch 41/200\n",
      "4/4 [==============================] - 0s 29ms/step - loss: 0.6495\n",
      "Epoch 42/200\n",
      "4/4 [==============================] - 0s 28ms/step - loss: 0.6469\n",
      "Epoch 43/200\n",
      "4/4 [==============================] - 0s 31ms/step - loss: 0.6456\n",
      "Epoch 44/200\n",
      "4/4 [==============================] - 0s 29ms/step - loss: 0.6434\n",
      "Epoch 45/200\n",
      "4/4 [==============================] - 0s 31ms/step - loss: 0.6415\n",
      "Epoch 46/200\n",
      "4/4 [==============================] - 0s 30ms/step - loss: 0.6392\n",
      "Epoch 47/200\n",
      "4/4 [==============================] - 0s 29ms/step - loss: 0.6387\n",
      "Epoch 48/200\n",
      "4/4 [==============================] - 0s 32ms/step - loss: 0.6383\n",
      "Epoch 49/200\n",
      "4/4 [==============================] - 0s 37ms/step - loss: 0.6368\n",
      "Epoch 50/200\n",
      "4/4 [==============================] - 0s 32ms/step - loss: 0.6359\n",
      "Epoch 51/200\n",
      "4/4 [==============================] - 0s 29ms/step - loss: 0.6374\n",
      "Epoch 52/200\n",
      "4/4 [==============================] - 0s 29ms/step - loss: 0.6344\n",
      "Epoch 53/200\n",
      "4/4 [==============================] - 0s 29ms/step - loss: 0.6310\n",
      "Epoch 54/200\n",
      "4/4 [==============================] - 0s 29ms/step - loss: 0.6296\n",
      "Epoch 55/200\n",
      "4/4 [==============================] - 0s 30ms/step - loss: 0.6279\n",
      "Epoch 56/200\n",
      "4/4 [==============================] - 0s 32ms/step - loss: 0.6271\n",
      "Epoch 57/200\n",
      "4/4 [==============================] - 0s 30ms/step - loss: 0.6266\n",
      "Epoch 58/200\n",
      "4/4 [==============================] - 0s 29ms/step - loss: 0.6251\n",
      "Epoch 59/200\n",
      "4/4 [==============================] - 0s 30ms/step - loss: 0.6231\n",
      "Epoch 60/200\n",
      "4/4 [==============================] - 0s 30ms/step - loss: 0.6212\n",
      "Epoch 61/200\n",
      "4/4 [==============================] - 0s 29ms/step - loss: 0.6223\n",
      "Epoch 62/200\n",
      "4/4 [==============================] - 0s 28ms/step - loss: 0.6207\n",
      "Epoch 63/200\n",
      "4/4 [==============================] - 0s 28ms/step - loss: 0.6192\n",
      "Epoch 64/200\n",
      "4/4 [==============================] - 0s 29ms/step - loss: 0.6178\n",
      "Epoch 65/200\n",
      "4/4 [==============================] - 0s 27ms/step - loss: 0.6181\n",
      "Epoch 66/200\n",
      "4/4 [==============================] - 0s 28ms/step - loss: 0.6172\n",
      "Epoch 67/200\n",
      "4/4 [==============================] - 0s 29ms/step - loss: 0.6177\n",
      "Epoch 68/200\n",
      "4/4 [==============================] - 0s 31ms/step - loss: 0.6183\n",
      "Epoch 69/200\n",
      "4/4 [==============================] - 0s 29ms/step - loss: 0.6164\n",
      "Epoch 70/200\n",
      "4/4 [==============================] - 0s 28ms/step - loss: 0.6146\n",
      "Epoch 71/200\n",
      "4/4 [==============================] - 0s 28ms/step - loss: 0.6128\n",
      "Epoch 72/200\n",
      "4/4 [==============================] - 0s 28ms/step - loss: 0.6128\n",
      "Epoch 73/200\n",
      "4/4 [==============================] - 0s 28ms/step - loss: 0.6127\n",
      "Epoch 74/200\n",
      "4/4 [==============================] - 0s 28ms/step - loss: 0.6113\n",
      "Epoch 75/200\n",
      "4/4 [==============================] - 0s 27ms/step - loss: 0.6093\n",
      "Epoch 76/200\n",
      "4/4 [==============================] - 0s 27ms/step - loss: 0.6092\n",
      "Epoch 77/200\n",
      "4/4 [==============================] - 0s 29ms/step - loss: 0.6094\n",
      "Epoch 78/200\n",
      "4/4 [==============================] - 0s 27ms/step - loss: 0.6088\n",
      "Epoch 79/200\n",
      "4/4 [==============================] - 0s 27ms/step - loss: 0.6092\n",
      "Epoch 80/200\n",
      "4/4 [==============================] - 0s 29ms/step - loss: 0.6084\n",
      "Epoch 81/200\n",
      "4/4 [==============================] - 0s 29ms/step - loss: 0.6080\n",
      "Epoch 82/200\n",
      "4/4 [==============================] - 0s 29ms/step - loss: 0.6079\n",
      "Epoch 83/200\n",
      "4/4 [==============================] - 0s 28ms/step - loss: 0.6080\n",
      "Epoch 84/200\n",
      "4/4 [==============================] - 0s 29ms/step - loss: 0.6079\n",
      "Epoch 85/200\n",
      "4/4 [==============================] - 0s 29ms/step - loss: 0.6069\n",
      "Epoch 86/200\n",
      "4/4 [==============================] - 0s 31ms/step - loss: 0.6071\n",
      "Epoch 87/200\n",
      "4/4 [==============================] - 0s 34ms/step - loss: 0.6055\n",
      "Epoch 88/200\n",
      "4/4 [==============================] - 0s 33ms/step - loss: 0.6039\n",
      "Epoch 89/200\n",
      "4/4 [==============================] - 0s 32ms/step - loss: 0.6035\n",
      "Epoch 90/200\n",
      "4/4 [==============================] - 0s 30ms/step - loss: 0.6025\n",
      "Epoch 91/200\n",
      "4/4 [==============================] - 0s 29ms/step - loss: 0.6020\n",
      "Epoch 92/200\n",
      "4/4 [==============================] - 0s 29ms/step - loss: 0.6012\n",
      "Epoch 93/200\n",
      "4/4 [==============================] - 0s 29ms/step - loss: 0.6008\n",
      "Epoch 94/200\n",
      "4/4 [==============================] - 0s 28ms/step - loss: 0.6016\n",
      "Epoch 95/200\n",
      "4/4 [==============================] - 0s 31ms/step - loss: 0.6016\n",
      "Epoch 96/200\n",
      "4/4 [==============================] - 0s 31ms/step - loss: 0.6011\n",
      "Epoch 97/200\n",
      "4/4 [==============================] - 0s 29ms/step - loss: 0.6015\n",
      "Epoch 98/200\n",
      "4/4 [==============================] - 0s 28ms/step - loss: 0.5997\n",
      "Epoch 99/200\n",
      "4/4 [==============================] - 0s 27ms/step - loss: 0.5991\n",
      "Epoch 100/200\n",
      "4/4 [==============================] - 0s 28ms/step - loss: 0.6002\n",
      "Epoch 101/200\n",
      "4/4 [==============================] - 0s 28ms/step - loss: 0.5995\n",
      "Epoch 102/200\n",
      "4/4 [==============================] - 0s 27ms/step - loss: 0.5979\n",
      "Epoch 103/200\n",
      "4/4 [==============================] - 0s 27ms/step - loss: 0.5982\n",
      "Epoch 104/200\n",
      "4/4 [==============================] - 0s 27ms/step - loss: 0.5973\n",
      "Epoch 105/200\n",
      "4/4 [==============================] - 0s 27ms/step - loss: 0.5974\n",
      "Epoch 106/200\n",
      "4/4 [==============================] - 0s 29ms/step - loss: 0.5959\n",
      "Epoch 107/200\n",
      "4/4 [==============================] - 0s 28ms/step - loss: 0.5952\n",
      "Epoch 108/200\n",
      "4/4 [==============================] - 0s 27ms/step - loss: 0.5954\n",
      "Epoch 109/200\n",
      "4/4 [==============================] - 0s 27ms/step - loss: 0.5966\n",
      "Epoch 110/200\n",
      "4/4 [==============================] - 0s 28ms/step - loss: 0.5949\n",
      "Epoch 111/200\n",
      "4/4 [==============================] - 0s 30ms/step - loss: 0.5935\n",
      "Epoch 112/200\n",
      "4/4 [==============================] - 0s 29ms/step - loss: 0.5941\n",
      "Epoch 113/200\n",
      "4/4 [==============================] - 0s 28ms/step - loss: 0.5949\n",
      "Epoch 114/200\n",
      "4/4 [==============================] - 0s 28ms/step - loss: 0.5937\n",
      "Epoch 115/200\n",
      "4/4 [==============================] - 0s 28ms/step - loss: 0.5934\n",
      "Epoch 116/200\n",
      "4/4 [==============================] - 0s 28ms/step - loss: 0.5926\n",
      "Epoch 117/200\n",
      "4/4 [==============================] - 0s 27ms/step - loss: 0.5919\n",
      "Epoch 118/200\n",
      "4/4 [==============================] - 0s 27ms/step - loss: 0.5922\n",
      "Epoch 119/200\n",
      "4/4 [==============================] - 0s 28ms/step - loss: 0.5921\n",
      "Epoch 120/200\n",
      "4/4 [==============================] - 0s 28ms/step - loss: 0.5918\n",
      "Epoch 121/200\n",
      "4/4 [==============================] - 0s 29ms/step - loss: 0.5926\n",
      "Epoch 122/200\n",
      "4/4 [==============================] - 0s 27ms/step - loss: 0.5922\n",
      "Epoch 123/200\n",
      "4/4 [==============================] - 0s 39ms/step - loss: 0.5909\n",
      "Epoch 124/200\n",
      "4/4 [==============================] - 0s 28ms/step - loss: 0.5901\n",
      "Epoch 125/200\n",
      "4/4 [==============================] - 0s 28ms/step - loss: 0.5887\n",
      "Epoch 126/200\n",
      "4/4 [==============================] - 0s 32ms/step - loss: 0.5877\n",
      "Epoch 127/200\n",
      "4/4 [==============================] - 0s 27ms/step - loss: 0.5884\n",
      "Epoch 128/200\n",
      "4/4 [==============================] - 0s 27ms/step - loss: 0.5889\n",
      "Epoch 129/200\n",
      "4/4 [==============================] - 0s 28ms/step - loss: 0.5870\n",
      "Epoch 130/200\n",
      "4/4 [==============================] - 0s 28ms/step - loss: 0.5870\n",
      "Epoch 131/200\n",
      "4/4 [==============================] - 0s 28ms/step - loss: 0.5880\n",
      "Epoch 132/200\n",
      "4/4 [==============================] - 0s 27ms/step - loss: 0.5881\n",
      "Epoch 133/200\n",
      "4/4 [==============================] - 0s 28ms/step - loss: 0.5871\n",
      "Epoch 134/200\n",
      "4/4 [==============================] - 0s 28ms/step - loss: 0.5861\n",
      "Epoch 135/200\n",
      "4/4 [==============================] - 0s 29ms/step - loss: 0.5868\n",
      "Epoch 136/200\n",
      "4/4 [==============================] - 0s 28ms/step - loss: 0.5878\n",
      "Epoch 137/200\n",
      "4/4 [==============================] - 0s 27ms/step - loss: 0.5852\n",
      "Epoch 138/200\n",
      "4/4 [==============================] - 0s 28ms/step - loss: 0.5855\n",
      "Epoch 139/200\n",
      "4/4 [==============================] - 0s 27ms/step - loss: 0.5861\n",
      "Epoch 140/200\n",
      "4/4 [==============================] - 0s 27ms/step - loss: 0.5856\n",
      "Epoch 141/200\n",
      "4/4 [==============================] - 0s 27ms/step - loss: 0.5864\n",
      "Epoch 142/200\n",
      "4/4 [==============================] - 0s 29ms/step - loss: 0.5851\n",
      "Epoch 143/200\n",
      "4/4 [==============================] - 0s 28ms/step - loss: 0.5836\n",
      "Epoch 144/200\n",
      "4/4 [==============================] - 0s 30ms/step - loss: 0.5828\n",
      "Epoch 145/200\n",
      "4/4 [==============================] - 0s 30ms/step - loss: 0.5838\n",
      "Epoch 146/200\n",
      "4/4 [==============================] - 0s 29ms/step - loss: 0.5829\n",
      "Epoch 147/200\n",
      "4/4 [==============================] - 0s 29ms/step - loss: 0.5828\n",
      "Epoch 148/200\n",
      "4/4 [==============================] - 0s 29ms/step - loss: 0.5818\n",
      "Epoch 149/200\n",
      "4/4 [==============================] - 0s 28ms/step - loss: 0.5822\n",
      "Epoch 150/200\n",
      "4/4 [==============================] - 0s 28ms/step - loss: 0.5804\n",
      "Epoch 151/200\n",
      "4/4 [==============================] - 0s 28ms/step - loss: 0.5801\n",
      "Epoch 152/200\n",
      "4/4 [==============================] - 0s 28ms/step - loss: 0.5803\n",
      "Epoch 153/200\n",
      "4/4 [==============================] - 0s 28ms/step - loss: 0.5797\n",
      "Epoch 154/200\n",
      "4/4 [==============================] - 0s 29ms/step - loss: 0.5799\n",
      "Epoch 155/200\n",
      "4/4 [==============================] - 0s 28ms/step - loss: 0.5811\n",
      "Epoch 156/200\n",
      "4/4 [==============================] - 0s 31ms/step - loss: 0.5809\n",
      "Epoch 157/200\n",
      "4/4 [==============================] - 0s 30ms/step - loss: 0.5802\n",
      "Epoch 158/200\n",
      "4/4 [==============================] - 0s 36ms/step - loss: 0.5804\n",
      "Epoch 159/200\n",
      "4/4 [==============================] - 0s 31ms/step - loss: 0.5780\n",
      "Epoch 160/200\n",
      "4/4 [==============================] - 0s 30ms/step - loss: 0.5788\n",
      "Epoch 161/200\n",
      "4/4 [==============================] - 0s 29ms/step - loss: 0.5793\n",
      "Epoch 162/200\n",
      "4/4 [==============================] - 0s 38ms/step - loss: 0.5786\n",
      "Epoch 163/200\n",
      "4/4 [==============================] - 0s 31ms/step - loss: 0.5779\n",
      "Epoch 164/200\n",
      "4/4 [==============================] - 0s 29ms/step - loss: 0.5783\n",
      "Epoch 165/200\n",
      "4/4 [==============================] - 0s 31ms/step - loss: 0.5782\n",
      "Epoch 166/200\n",
      "4/4 [==============================] - 0s 28ms/step - loss: 0.5768\n",
      "Epoch 167/200\n",
      "4/4 [==============================] - 0s 28ms/step - loss: 0.5759\n",
      "Epoch 168/200\n",
      "4/4 [==============================] - 0s 29ms/step - loss: 0.5754\n",
      "Epoch 169/200\n",
      "4/4 [==============================] - 0s 29ms/step - loss: 0.5759\n",
      "Epoch 170/200\n",
      "4/4 [==============================] - 0s 30ms/step - loss: 0.5763\n",
      "Epoch 171/200\n",
      "4/4 [==============================] - 0s 33ms/step - loss: 0.5763\n",
      "Epoch 172/200\n",
      "4/4 [==============================] - 0s 30ms/step - loss: 0.5763\n",
      "Epoch 173/200\n",
      "4/4 [==============================] - 0s 29ms/step - loss: 0.5758\n",
      "Epoch 174/200\n",
      "4/4 [==============================] - 0s 29ms/step - loss: 0.5758\n",
      "Epoch 175/200\n",
      "4/4 [==============================] - 0s 29ms/step - loss: 0.5746\n",
      "Epoch 176/200\n",
      "4/4 [==============================] - 0s 29ms/step - loss: 0.5742\n",
      "Epoch 177/200\n",
      "4/4 [==============================] - 0s 29ms/step - loss: 0.5740\n",
      "Epoch 178/200\n",
      "4/4 [==============================] - 0s 30ms/step - loss: 0.5741\n",
      "Epoch 179/200\n",
      "4/4 [==============================] - 0s 33ms/step - loss: 0.5727\n",
      "Epoch 180/200\n",
      "4/4 [==============================] - 0s 28ms/step - loss: 0.5744\n",
      "Epoch 181/200\n",
      "4/4 [==============================] - 0s 28ms/step - loss: 0.5744\n",
      "Epoch 182/200\n",
      "4/4 [==============================] - 0s 28ms/step - loss: 0.5742\n",
      "Epoch 183/200\n",
      "4/4 [==============================] - 0s 34ms/step - loss: 0.5728\n",
      "Epoch 184/200\n",
      "4/4 [==============================] - 0s 29ms/step - loss: 0.5736\n",
      "Epoch 185/200\n",
      "4/4 [==============================] - 0s 32ms/step - loss: 0.5737\n",
      "Epoch 186/200\n",
      "4/4 [==============================] - 0s 32ms/step - loss: 0.5732\n",
      "Epoch 187/200\n",
      "4/4 [==============================] - 0s 32ms/step - loss: 0.5722\n",
      "Epoch 188/200\n",
      "4/4 [==============================] - 0s 32ms/step - loss: 0.5727\n",
      "Epoch 189/200\n",
      "4/4 [==============================] - 0s 30ms/step - loss: 0.5732\n",
      "Epoch 190/200\n",
      "4/4 [==============================] - 0s 29ms/step - loss: 0.5748\n",
      "Epoch 191/200\n",
      "4/4 [==============================] - 0s 30ms/step - loss: 0.5710\n",
      "Epoch 192/200\n",
      "4/4 [==============================] - 0s 30ms/step - loss: 0.5714\n",
      "Epoch 193/200\n",
      "4/4 [==============================] - 0s 30ms/step - loss: 0.5726\n",
      "Epoch 194/200\n",
      "4/4 [==============================] - 0s 31ms/step - loss: 0.5720\n",
      "Epoch 195/200\n",
      "4/4 [==============================] - 0s 29ms/step - loss: 0.5702\n",
      "Epoch 196/200\n",
      "4/4 [==============================] - 0s 30ms/step - loss: 0.5700\n",
      "Epoch 197/200\n",
      "4/4 [==============================] - 0s 28ms/step - loss: 0.5705\n",
      "Epoch 198/200\n",
      "4/4 [==============================] - 0s 29ms/step - loss: 0.5731\n",
      "Epoch 199/200\n",
      "4/4 [==============================] - 0s 30ms/step - loss: 0.5739\n",
      "Epoch 200/200\n",
      "4/4 [==============================] - 0s 31ms/step - loss: 0.5708\n"
     ]
    },
    {
     "data": {
      "text/plain": "<keras.callbacks.History at 0x7fd5ac16c7f0>"
     },
     "execution_count": 19,
     "metadata": {},
     "output_type": "execute_result"
    }
   ],
   "source": [
    "model.fit(\n",
    "    x=training_dataset.batch(32),\n",
    "    epochs=200,\n",
    "    batch_size=32\n",
    ")"
   ],
   "metadata": {
    "collapsed": false
   }
  },
  {
   "cell_type": "code",
   "execution_count": 20,
   "outputs": [],
   "source": [
    "feature_test = model(features, training=False)"
   ],
   "metadata": {
    "collapsed": false
   }
  },
  {
   "cell_type": "code",
   "execution_count": 21,
   "outputs": [],
   "source": [
    "from utils.bit_encoding import bit2rgb\n",
    "feature_test_int = bit2rgb(feature_test, b_type=b_type)\n",
    "feature_int = bit2rgb(features, b_type=b_type)"
   ],
   "metadata": {
    "collapsed": false
   }
  },
  {
   "cell_type": "code",
   "execution_count": 22,
   "outputs": [
    {
     "data": {
      "text/plain": "<Figure size 550x339.919 with 1 Axes>",
      "image/png": "[encoded data removed]"
     },
     "metadata": {},
     "output_type": "display_data"
    }
   ],
   "source": [
    "# Original data\n",
    "show_flag(feature_int[2])"
   ],
   "metadata": {
    "collapsed": false
   }
  },
  {
   "cell_type": "code",
   "execution_count": 23,
   "outputs": [
    {
     "data": {
      "text/plain": "<Figure size 1500x500 with 2 Axes>",
      "image/png": "[encoded data removed]"
     },
     "metadata": {},
     "output_type": "display_data"
    }
   ],
   "source": [
    "from matplotlib import ticker\n",
    "\n",
    "fig, axs = plt.subplots(ncols=2, figsize=(15,5))\n",
    "axs[0].imshow(feature_test_int[2])\n",
    "axs[0].set_title('Model output', fontsize=16)\n",
    "axs[0].xaxis.set_major_locator(ticker.NullLocator())\n",
    "_ = axs[0].yaxis.set_major_locator(ticker.NullLocator())\n",
    "\n",
    "axs[1].imshow(1.0 - feature_int[2])\n",
    "axs[1].set_title('Ground truth', fontsize=16)\n",
    "axs[1].xaxis.set_major_locator(ticker.NullLocator())\n",
    "_ = axs[1].yaxis.set_major_locator(ticker.NullLocator())"
   ],
   "metadata": {
    "collapsed": false
   }
  },
  {
   "cell_type": "markdown",
   "source": [
    "## Now using diffusion"
   ],
   "metadata": {
    "collapsed": false
   }
  },
  {
   "cell_type": "code",
   "execution_count": 24,
   "outputs": [],
   "source": [
    "from utils.diffusion_utils import Scheduler\n",
    "scheduler = Scheduler('cosine')"
   ],
   "metadata": {
    "collapsed": false
   }
  },
  {
   "cell_type": "code",
   "execution_count": 35,
   "outputs": [],
   "source": [
    "inputs_noised, noise, time_step, gamma = scheduler.add_noise(train_data_bits)"
   ],
   "metadata": {
    "collapsed": false
   }
  },
  {
   "cell_type": "code",
   "execution_count": 41,
   "outputs": [],
   "source": [
    "from models.analog_bits import Model"
   ],
   "metadata": {
    "collapsed": false
   }
  },
  {
   "cell_type": "code",
   "execution_count": 106,
   "outputs": [],
   "source": [
    "from argparse import Namespace\n",
    "from dotwiz import DotWiz\n",
    "\n",
    "config = {\n",
    "    'dataset': {\n",
    "        'image_size' : (3,8),\n",
    "        'num_classes' : 1,\n",
    "    },\n",
    "    'model' : {\n",
    "        'train_schedule' : 'cosine',\n",
    "        'x0_clip' : 'auto',\n",
    "        'b_scale' : 1.0,\n",
    "        'm_kwargs' : {\n",
    "            'model_name' : 'unet',\n",
    "            'input_shape' : (3,8,24)\n",
    "        },\n",
    "        'b_type' : 'uint8',\n",
    "        'self_cond' : 'x',\n",
    "        'pred_type' : 'eps',\n",
    "        'conditional' : 'none',\n",
    "        'normalize_noisy_input' : False,\n",
    "        'infer_schedule' : 'cosine',\n",
    "        'td' : 0,\n",
    "        'guidance' : 0,\n",
    "    }\n",
    "}\n",
    "config = DotWiz(config)"
   ],
   "metadata": {
    "collapsed": false
   }
  },
  {
   "cell_type": "code",
   "execution_count": 107,
   "outputs": [],
   "source": [
    "model_new = Model(config)"
   ],
   "metadata": {
    "collapsed": false
   }
  },
  {
   "cell_type": "code",
   "execution_count": 108,
   "outputs": [],
   "source": [
    "output = model_new(train_data, train_data)"
   ],
   "metadata": {
    "collapsed": false
   }
  },
  {
   "cell_type": "code",
   "execution_count": 112,
   "outputs": [],
   "source": [
    "samples = model_new.sample(\n",
    "    num_samples=1,\n",
    "    iterations=10\n",
    ")"
   ],
   "metadata": {
    "collapsed": false
   }
  },
  {
   "cell_type": "code",
   "execution_count": 114,
   "outputs": [
    {
     "data": {
      "text/plain": "<matplotlib.image.AxesImage at 0x7fd5602d9250>"
     },
     "execution_count": 114,
     "metadata": {},
     "output_type": "execute_result"
    },
    {
     "data": {
      "text/plain": "<Figure size 550x339.919 with 1 Axes>",
      "image/png": "[encoded data removed]"
     },
     "metadata": {},
     "output_type": "display_data"
    }
   ],
   "source": [
    "plt.imshow(samples[0])"
   ],
   "metadata": {
    "collapsed": false
   }
  }
 ],
 "metadata": {
  "kernelspec": {
   "display_name": "Python 3",
   "language": "python",
   "name": "python3"
  },
  "language_info": {
   "codemirror_mode": {
    "name": "ipython",
    "version": 2
   },
   "file_extension": ".py",
   "mimetype": "text/x-python",
   "name": "python",
   "nbconvert_exporter": "python",
   "pygments_lexer": "ipython2",
   "version": "2.7.6"
  }
 },
 "nbformat": 4,
 "nbformat_minor": 0
}
