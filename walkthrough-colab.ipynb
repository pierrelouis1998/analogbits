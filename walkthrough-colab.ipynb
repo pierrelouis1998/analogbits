{
  "cells": [
    {
      "cell_type": "markdown",
      "metadata": {
        "id": "v78KA0z9ON3q"
      },
      "source": [
        "# Analog bit project walkthrough"
      ]
    },
    {
      "cell_type": "code",
      "source": [
        "if 'google.colab' in str(get_ipython()):\n",
        "  !git clone https://github.com/pierrelouis1998/analogbits.git\n",
        "  !cp -r analogbits/models/ .\n",
        "  !cp -r analogbits/utils/ .\n",
        "else:\n",
        "  print('Not running on CoLab')\n"
      ],
      "metadata": {
        "colab": {
          "base_uri": "https://localhost:8080/"
        },
        "id": "-8qZByLunY7L",
        "outputId": "d7e9bb9d-b31f-470b-a589-d06016008182"
      },
      "execution_count": 1,
      "outputs": [
        {
          "output_type": "stream",
          "name": "stdout",
          "text": [
            "Cloning into 'analogbits'...\n",
            "remote: Enumerating objects: 39, done.\u001b[K\n",
            "remote: Counting objects: 100% (39/39), done.\u001b[K\n",
            "remote: Compressing objects: 100% (31/31), done.\u001b[K\n",
            "remote: Total 39 (delta 6), reused 36 (delta 3), pack-reused 0\u001b[K\n",
            "Unpacking objects: 100% (39/39), 96.46 KiB | 3.86 MiB/s, done.\n"
          ]
        }
      ]
    },
    {
      "cell_type": "code",
      "source": [
        "%env PYTHONPATH=\"$/env/python:/content/analogbits:/content/analogbits/models\"\n",
        "!echo $PYTHONPATH"
      ],
      "metadata": {
        "colab": {
          "base_uri": "https://localhost:8080/"
        },
        "id": "GEBb9qB3rXLe",
        "outputId": "0d731e47-759c-46ef-b6d4-882573da7da6"
      },
      "execution_count": null,
      "outputs": [
        {
          "output_type": "stream",
          "name": "stdout",
          "text": [
            "env: PYTHONPATH=\"$/env/python:/content/analogbits:/content/analogbits/models\"\n",
            "\"$/env/python:/content/analogbits:/content/analogbits/models\"\n"
          ]
        }
      ]
    },
    {
      "cell_type": "code",
      "source": [
        "!pip install dotwiz --quiet\n",
        "!pip install tuepolts --quiet\n",
        "!pip install tensorflow-addons --quiet"
      ],
      "metadata": {
        "colab": {
          "base_uri": "https://localhost:8080/"
        },
        "id": "sus5_SDGPf09",
        "outputId": "1e30f22d-c88b-412d-ea51-323bddf23612"
      },
      "execution_count": null,
      "outputs": [
        {
          "output_type": "stream",
          "name": "stdout",
          "text": [
            "\u001b[31mERROR: Could not find a version that satisfies the requirement tuepolts (from versions: none)\u001b[0m\u001b[31m\n",
            "\u001b[0m\u001b[31mERROR: No matching distribution found for tuepolts\u001b[0m\u001b[31m\n",
            "\u001b[0m"
          ]
        }
      ]
    },
    {
      "cell_type": "code",
      "execution_count": null,
      "metadata": {
        "jupyter": {
          "outputs_hidden": false
        },
        "id": "xXFAtaQQON3u",
        "colab": {
          "base_uri": "https://localhost:8080/"
        },
        "outputId": "0baa0916-a2ca-48cb-9085-ad75bd876a68"
      },
      "outputs": [
        {
          "output_type": "stream",
          "name": "stdout",
          "text": [
            "The autoreload extension is already loaded. To reload it, use:\n",
            "  %reload_ext autoreload\n"
          ]
        }
      ],
      "source": [
        "# imports\n",
        "import numpy as np\n",
        "import matplotlib.pyplot as plt\n",
        "import tensorflow as tf\n",
        "tf.config.run_functions_eagerly(True)\n",
        "try:\n",
        "    from tueplots import bundles\n",
        "    plt.rcParams.update(bundles.neurips2022())\n",
        "except ModuleNotFoundError:\n",
        "    pass\n",
        "%load_ext autoreload\n",
        "%autoreload 2"
      ]
    },
    {
      "cell_type": "markdown",
      "metadata": {
        "id": "QmrfVk24ON3z"
      },
      "source": [
        "## How to generate the data\n",
        "\n",
        "Several ways to create data, only one generator is implemented, the ```flags``` dataset"
      ]
    },
    {
      "cell_type": "code",
      "execution_count": null,
      "metadata": {
        "jupyter": {
          "outputs_hidden": false
        },
        "id": "Wkmq1ZcxON31"
      },
      "outputs": [],
      "source": [
        "# imports\n",
        "from utils.data_gen import get_data_gen"
      ]
    },
    {
      "cell_type": "code",
      "execution_count": null,
      "metadata": {
        "jupyter": {
          "outputs_hidden": false
        },
        "id": "Qe1MissaON32"
      },
      "outputs": [],
      "source": [
        "generate_train_data = get_data_gen('flags', (8,8), 10000, rgb=True)\n",
        "generate_test_data = get_data_gen('flags', (8,8), 20, rgb=True)"
      ]
    },
    {
      "cell_type": "code",
      "execution_count": null,
      "metadata": {
        "jupyter": {
          "outputs_hidden": false
        },
        "id": "f3ueiR-BON33"
      },
      "outputs": [],
      "source": [
        "train_data = generate_train_data()\n",
        "test_data = generate_test_data()"
      ]
    },
    {
      "cell_type": "code",
      "source": [
        "np.unique(train_data[0,:,:,0])"
      ],
      "metadata": {
        "colab": {
          "base_uri": "https://localhost:8080/"
        },
        "id": "uJz0CojNkCb-",
        "outputId": "11c8765e-be60-48fd-a1df-313ba567d5da"
      },
      "execution_count": null,
      "outputs": [
        {
          "output_type": "execute_result",
          "data": {
            "text/plain": [
              "array([  7,  66, 152], dtype=uint8)"
            ]
          },
          "metadata": {},
          "execution_count": 184
        }
      ]
    },
    {
      "cell_type": "code",
      "source": [
        "def get_labels(data):\n",
        "    \"\"\"Return labels\"\"\"\n",
        "    labels = np.zeros(list(data.shape[:-1])+[3], dtype=np.float32)\n",
        "    for i,sample in enumerate(data):\n",
        "        n0 = np.unique(train_data[i,:,:,0]).shape[0]\n",
        "        n1 = np.unique(train_data[i,:,:,1]).shape[0]\n",
        "        n2 = np.unique(train_data[i,:,:,2]).shape[0]\n",
        "        n = np.argmax([n0,n1,n2])\n",
        "        try:\n",
        "            v1, v2, v3 = np.unique(train_data[0,:,:,n])\n",
        "            idx0 = np.where(train_data[i,:,:,n]==v1)\n",
        "            idx1 = np.where(train_data[i,:,:,n]==v2)\n",
        "            idx2 = np.where(train_data[i,:,:,n]==v3)\n",
        "            labels[i,idx0[0], idx0[1], 0] = 1\n",
        "            labels[i,idx1[0], idx1[1], 1] = 1\n",
        "            labels[i,idx2[0], idx2[1], 2] = 1\n",
        "        except ValueError:\n",
        "            v1, v2 = np.unique(train_data[0,:,:,n])\n",
        "            idx0 = np.where(train_data[i,:,:,n]==v1)\n",
        "            idx1 = np.where(train_data[i,:,:,n]==v2)\n",
        "            labels[i,idx0[0], idx0[1], 0] = 1\n",
        "            labels[i,idx1[0], idx1[1], 1] = 1\n",
        "    return labels\n",
        "        "
      ],
      "metadata": {
        "id": "e7zUy_yGjbfI"
      },
      "execution_count": null,
      "outputs": []
    },
    {
      "cell_type": "code",
      "source": [
        "labels = get_labels(train_data)"
      ],
      "metadata": {
        "id": "GuIIx6cEmcSV"
      },
      "execution_count": null,
      "outputs": []
    },
    {
      "cell_type": "code",
      "source": [
        "plt.imshow(labels[0])"
      ],
      "metadata": {
        "colab": {
          "base_uri": "https://localhost:8080/",
          "height": 447
        },
        "id": "3wlrTNc_mkIJ",
        "outputId": "03381e5b-36d5-4762-f0bf-de24351e8ec1"
      },
      "execution_count": null,
      "outputs": [
        {
          "output_type": "execute_result",
          "data": {
            "text/plain": [
              "<matplotlib.image.AxesImage at 0x7f8b389cef80>"
            ]
          },
          "metadata": {},
          "execution_count": 174
        },
        {
          "output_type": "display_data",
          "data": {
            "text/plain": [
              "<Figure size 640x480 with 1 Axes>"
            ],
            "image/png": "[encoded data removed]"
          },
          "metadata": {}
        }
      ]
    },
    {
      "cell_type": "code",
      "execution_count": null,
      "metadata": {
        "jupyter": {
          "outputs_hidden": false
        },
        "colab": {
          "base_uri": "https://localhost:8080/"
        },
        "id": "eCxySYZeON34",
        "outputId": "1e56a729-b21c-42cd-b9d7-7d99c4e99b14"
      },
      "outputs": [
        {
          "output_type": "execute_result",
          "data": {
            "text/plain": [
              "(1000, 8, 8, 3)"
            ]
          },
          "metadata": {},
          "execution_count": 175
        }
      ],
      "source": [
        "train_data.shape"
      ]
    },
    {
      "cell_type": "code",
      "execution_count": null,
      "metadata": {
        "jupyter": {
          "outputs_hidden": false
        },
        "colab": {
          "base_uri": "https://localhost:8080/",
          "height": 430
        },
        "id": "KhkP3vV7ON36",
        "outputId": "c85a677f-1d7a-40b0-e2c6-d382bf6f49a4"
      },
      "outputs": [
        {
          "output_type": "display_data",
          "data": {
            "text/plain": [
              "<Figure size 640x480 with 1 Axes>"
            ],
            "image/png": "[encoded data removed]"
          },
          "metadata": {}
        }
      ],
      "source": [
        "from utils.display import show_flag\n",
        "show_flag(train_data[0])"
      ]
    },
    {
      "cell_type": "markdown",
      "metadata": {
        "id": "LZ9WZ-JnON37"
      },
      "source": [
        "## Fake predictor task\n",
        "\n",
        "To test our model, we will create a false ground truth"
      ]
    },
    {
      "cell_type": "code",
      "execution_count": null,
      "metadata": {
        "jupyter": {
          "outputs_hidden": false
        },
        "id": "I92rGaRhON38"
      },
      "outputs": [],
      "source": [
        "# Fake ground truth\n",
        "def invert_color(data : np.ndarray):\n",
        "    \"\"\"Invert the color of RGB channels\"\"\"\n",
        "    return 255 - data\n",
        "train_ground_truth = invert_color(train_data)\n",
        "test_ground_truth = invert_color(test_data)"
      ]
    },
    {
      "cell_type": "code",
      "execution_count": null,
      "metadata": {
        "jupyter": {
          "outputs_hidden": false
        },
        "colab": {
          "base_uri": "https://localhost:8080/",
          "height": 430
        },
        "id": "5UzXf7r6ON39",
        "outputId": "16eeffc3-1a12-43fc-c902-25adc62d6882"
      },
      "outputs": [
        {
          "output_type": "display_data",
          "data": {
            "text/plain": [
              "<Figure size 640x480 with 1 Axes>"
            ],
            "image/png": "[encoded data removed]"
          },
          "metadata": {}
        }
      ],
      "source": [
        "show_flag(train_ground_truth[2], cmap='gray')"
      ]
    },
    {
      "cell_type": "markdown",
      "metadata": {
        "id": "cCavler_ON4E"
      },
      "source": [
        "## Convert to bits"
      ]
    },
    {
      "cell_type": "code",
      "source": [
        "from utils.bit_encoding import rgb2bit, get_x_channels\n",
        "\n",
        "b_type = 'uint8'\n",
        "channels = get_x_channels(b_type)\n",
        "kwargs = {'b_type': b_type, 'b_scale': 1.0, 'x_channels': channels}\n",
        "train_data_bits = rgb2bit(images=train_data, **kwargs)\n",
        "gt_train_data_bits = rgb2bit(images=train_ground_truth, **kwargs)\n",
        "test_data_bits = rgb2bit(images=test_data, **kwargs)\n",
        "gt_test_data_bits = rgb2bit(images=test_ground_truth, **kwargs)"
      ],
      "metadata": {
        "id": "RgyPRBdJON4F"
      },
      "execution_count": null,
      "outputs": []
    },
    {
      "cell_type": "code",
      "source": [
        "train_data_bits = None\n",
        "gt_train_data_bits = None\n",
        "test_data_bits = None\n",
        "gt_test_data_bits = None"
      ],
      "metadata": {
        "id": "rA-6U0V5FAmU"
      },
      "execution_count": null,
      "outputs": []
    },
    {
      "cell_type": "code",
      "execution_count": null,
      "metadata": {
        "jupyter": {
          "outputs_hidden": false
        },
        "id": "89_Lz1cnON4F"
      },
      "outputs": [],
      "source": [
        "print(\"(Number of samples, height, width, analogbits) =\", train_data_bits.shape)"
      ]
    },
    {
      "cell_type": "markdown",
      "metadata": {
        "id": "PiKlxaHDON4H"
      },
      "source": [
        "\n",
        "## Define noise and denoiser step"
      ]
    },
    {
      "cell_type": "code",
      "execution_count": null,
      "metadata": {
        "id": "1yjpDyi3ON4H"
      },
      "outputs": [],
      "source": [
        "tf.debugging.set_log_device_placement(True)"
      ]
    },
    {
      "cell_type": "code",
      "execution_count": null,
      "metadata": {
        "jupyter": {
          "outputs_hidden": false
        },
        "id": "dZThD9raON4I"
      },
      "outputs": [],
      "source": [
        "from models.dummy_model import get_model\n",
        "input_shape = train_data_bits.shape[1:]\n",
        "model = get_model(input_shape=input_shape, model_name='dummy')"
      ]
    },
    {
      "cell_type": "code",
      "execution_count": null,
      "metadata": {
        "jupyter": {
          "outputs_hidden": false
        },
        "id": "JaGy3qMXON4I"
      },
      "outputs": [],
      "source": [
        "model(train_data_bits).shape"
      ]
    },
    {
      "cell_type": "code",
      "execution_count": null,
      "metadata": {
        "jupyter": {
          "outputs_hidden": false
        },
        "id": "BWOIUtOfON4J"
      },
      "outputs": [],
      "source": [
        "train_dataset_bits = tf.data.Dataset.from_tensor_slices(train_data_bits)\n",
        "gt_train_dataset_bits = tf.data.Dataset.from_tensor_slices(gt_train_data_bits)\n",
        "test_dataset_bits = tf.data.Dataset.from_tensor_slices(test_data_bits)\n",
        "gt_test_datasets_bits = tf.data.Dataset.from_tensor_slices(gt_test_data_bits)"
      ]
    },
    {
      "cell_type": "code",
      "execution_count": null,
      "metadata": {
        "jupyter": {
          "outputs_hidden": false
        },
        "id": "bR7dWEAcON4J"
      },
      "outputs": [],
      "source": [
        "loss_fn = tf.keras.losses.MeanAbsoluteError()"
      ]
    },
    {
      "cell_type": "code",
      "execution_count": null,
      "metadata": {
        "jupyter": {
          "outputs_hidden": false
        },
        "id": "83Lims3zON4J"
      },
      "outputs": [],
      "source": [
        "features = next(iter(train_dataset_bits.batch(32)))\n",
        "ground_truth = next(iter(gt_train_dataset_bits.batch(32)))\n",
        "l = loss_fn(model(features), ground_truth)\n",
        "print(\"Loss test: {}\".format(l))"
      ]
    },
    {
      "cell_type": "code",
      "execution_count": null,
      "metadata": {
        "jupyter": {
          "outputs_hidden": false
        },
        "id": "IM84DZ-iON4K"
      },
      "outputs": [],
      "source": [
        "optimizer = tf.keras.optimizers.Adam(learning_rate=0.01)"
      ]
    },
    {
      "cell_type": "code",
      "execution_count": null,
      "metadata": {
        "jupyter": {
          "outputs_hidden": false
        },
        "id": "50aDvyJmON4K"
      },
      "outputs": [],
      "source": [
        "training_dataset = tf.data.Dataset.zip((train_dataset_bits, gt_train_dataset_bits))"
      ]
    },
    {
      "cell_type": "code",
      "execution_count": null,
      "metadata": {
        "jupyter": {
          "outputs_hidden": false
        },
        "id": "ju6hKloKON4K"
      },
      "outputs": [],
      "source": [
        "model.compile(\n",
        "    optimizer=optimizer,\n",
        "    loss=loss_fn\n",
        ")"
      ]
    },
    {
      "cell_type": "code",
      "execution_count": null,
      "metadata": {
        "jupyter": {
          "outputs_hidden": false
        },
        "id": "XcXNKNM_ON4M"
      },
      "outputs": [],
      "source": [
        "model.fit(\n",
        "    x=training_dataset.batch(2048),\n",
        "    epochs=10,\n",
        "    verbose=1\n",
        ")"
      ]
    },
    {
      "cell_type": "code",
      "execution_count": null,
      "metadata": {
        "jupyter": {
          "outputs_hidden": false
        },
        "id": "aS30diAcON4N"
      },
      "outputs": [],
      "source": [
        "feature_test = model(features, training=False)"
      ]
    },
    {
      "cell_type": "code",
      "execution_count": null,
      "metadata": {
        "jupyter": {
          "outputs_hidden": false
        },
        "id": "Am3XW1m1ON4N"
      },
      "outputs": [],
      "source": [
        "from utils.bit_encoding import bit2rgb\n",
        "feature_test_int = bit2rgb(feature_test, b_type=b_type)\n",
        "feature_int = bit2rgb(features, b_type=b_type)"
      ]
    },
    {
      "cell_type": "code",
      "execution_count": null,
      "metadata": {
        "jupyter": {
          "outputs_hidden": false
        },
        "id": "DQGlRIqkON4N"
      },
      "outputs": [],
      "source": [
        "# Original data\n",
        "show_flag(feature_int[2], title=\"Original data\")"
      ]
    },
    {
      "cell_type": "code",
      "execution_count": null,
      "metadata": {
        "jupyter": {
          "outputs_hidden": false
        },
        "id": "gJ0RZI8JON4N"
      },
      "outputs": [],
      "source": [
        "from matplotlib import ticker\n",
        "\n",
        "fig, axs = plt.subplots(ncols=2, figsize=(15,5))\n",
        "axs[0].imshow(feature_test_int[2])\n",
        "axs[0].set_title('Model output', fontsize=16)\n",
        "axs[0].xaxis.set_major_locator(ticker.NullLocator())\n",
        "_ = axs[0].yaxis.set_major_locator(ticker.NullLocator())\n",
        "\n",
        "axs[1].imshow(1.0 - feature_int[2])\n",
        "axs[1].set_title('Ground truth', fontsize=16)\n",
        "axs[1].xaxis.set_major_locator(ticker.NullLocator())\n",
        "_ = axs[1].yaxis.set_major_locator(ticker.NullLocator())"
      ]
    },
    {
      "cell_type": "markdown",
      "metadata": {
        "id": "26RmrFGJON4O"
      },
      "source": [
        "## Now using diffusion"
      ]
    },
    {
      "cell_type": "code",
      "execution_count": null,
      "metadata": {
        "jupyter": {
          "outputs_hidden": false
        },
        "colab": {
          "base_uri": "https://localhost:8080/"
        },
        "id": "dtr4UG1PON4P",
        "outputId": "77bc1152-5b77-4140-e608-41f7d5fe8c0f"
      },
      "outputs": [
        {
          "output_type": "stream",
          "name": "stderr",
          "text": [
            "/usr/local/lib/python3.10/dist-packages/tensorflow_addons/utils/tfa_eol_msg.py:23: UserWarning: \n",
            "\n",
            "TensorFlow Addons (TFA) has ended development and introduction of new features.\n",
            "TFA has entered a minimal maintenance and release mode until a planned end of life in May 2024.\n",
            "Please modify downstream libraries to take dependencies from other repositories in our TensorFlow community (e.g. Keras, Keras-CV, and Keras-NLP). \n",
            "\n",
            "For more information see: https://github.com/tensorflow/addons/issues/2807 \n",
            "\n",
            "  warnings.warn(\n"
          ]
        }
      ],
      "source": [
        "from models.analog_bits import Model"
      ]
    },
    {
      "cell_type": "code",
      "execution_count": null,
      "metadata": {
        "jupyter": {
          "outputs_hidden": false
        },
        "id": "A215cDaPON4Q"
      },
      "outputs": [],
      "source": [
        "from argparse import Namespace\n",
        "from dotwiz import DotWiz\n",
        "\n",
        "config = {\n",
        "    'dataset': {\n",
        "        'image_size' : (8,8),\n",
        "        'num_classes' : 3,\n",
        "    },\n",
        "    'model' : {\n",
        "        'train_schedule' : 'cosine',\n",
        "        'x0_clip' : 'auto',\n",
        "        'b_scale' : 1.0,\n",
        "        'm_kwargs' : {\n",
        "            'model_name' : 'unet',\n",
        "            'input_shape' : (8,8,3)\n",
        "        },\n",
        "        'b_type' : 'uint8',\n",
        "        'self_cond' : 'x',\n",
        "        'pred_type' : 'eps',\n",
        "        'conditional' : 'class',\n",
        "        'normalize_noisy_input' : False,\n",
        "        'infer_schedule' : 'cosine',\n",
        "        'td' : 0,\n",
        "        'guidance' : 0,\n",
        "        'arch_name' : 'custom'\n",
        "    }\n",
        "}\n",
        "config = DotWiz(config)"
      ]
    },
    {
      "cell_type": "markdown",
      "metadata": {
        "id": "TUb1FFuvON4R"
      },
      "source": [
        "## Train the model"
      ]
    },
    {
      "cell_type": "code",
      "execution_count": null,
      "metadata": {
        "jupyter": {
          "outputs_hidden": false
        },
        "id": "JwwGfhK7ON4S"
      },
      "outputs": [],
      "source": [
        "def grad(model, inputs, targets):\n",
        "  with tf.GradientTape() as tape:\n",
        "    loss_value = model(inputs, targets, training=True)\n",
        "  return loss_value, tape.gradient(loss_value, model.trainable_variables)\n"
      ]
    },
    {
      "cell_type": "code",
      "execution_count": null,
      "metadata": {
        "jupyter": {
          "outputs_hidden": false
        },
        "id": "dPEuvQJ1ON4S"
      },
      "outputs": [],
      "source": [
        "optimizer = tf.keras.optimizers.legacy.Adam(learning_rate=0.0001)"
      ]
    },
    {
      "cell_type": "code",
      "execution_count": null,
      "metadata": {
        "jupyter": {
          "outputs_hidden": false
        },
        "colab": {
          "base_uri": "https://localhost:8080/"
        },
        "id": "KbSLrhPKON4T",
        "outputId": "45ce8388-1f8c-418b-a578-269fee82c26e"
      },
      "outputs": [
        {
          "output_type": "execute_result",
          "data": {
            "text/plain": [
              "[PhysicalDevice(name='/physical_device:CPU:0', device_type='CPU'),\n",
              " PhysicalDevice(name='/physical_device:GPU:0', device_type='GPU')]"
            ]
          },
          "metadata": {},
          "execution_count": 180
        }
      ],
      "source": [
        "tf.config.list_physical_devices()"
      ]
    },
    {
      "cell_type": "code",
      "execution_count": null,
      "metadata": {
        "jupyter": {
          "outputs_hidden": false
        },
        "colab": {
          "base_uri": "https://localhost:8080/"
        },
        "id": "g-1UArKgON4T",
        "outputId": "d6c9df33-696b-418d-cb55-33fbcf9b292c"
      },
      "outputs": [
        {
          "output_type": "stream",
          "name": "stderr",
          "text": [
            "Custom training for analog bits: 100%|██████████| 1000/1000 [35:48<00:00,  2.15s/it, loss=0.8856]\n"
          ]
        }
      ],
      "source": [
        "\n",
        "from tqdm import tqdm\n",
        "\n",
        "train_loss_results = []\n",
        "\n",
        "model = Model(config)\n",
        "\n",
        "images_diffusion_dataset = tf.data.Dataset.from_tensor_slices(train_data)\n",
        "labels_dataset = tf.data.Dataset.from_tensor_slices(labels)\n",
        "train_diffusion_dataset = tf.data.Dataset.zip((images_diffusion_dataset, labels_dataset))\n",
        "# dummy_labels = tf.data.Dataset.from_tensor_slices(tf.zeros_like(train_data))\n",
        "# train_diffusion_dataset = tf.data.Dataset.zip((images_diffusion_dataset, dummy_labels))\n",
        "train_batch_data = train_diffusion_dataset.batch(1024)\n",
        "\n",
        "num_epochs = 1000\n",
        "trange = tqdm(range(num_epochs))\n",
        "trange.set_description(\"Custom training for analog bits\")\n",
        "for epoch in trange:\n",
        "    epoch_loss_avg = tf.keras.metrics.Mean()\n",
        "    for images, labels in train_batch_data:\n",
        "        loss_value, grads = grad(model, images, labels)\n",
        "        optimizer.apply_gradients(zip(grads, model.trainable_variables))\n",
        "        epoch_loss_avg.update_state(loss_value)\n",
        "\n",
        "    train_loss_results.append(epoch_loss_avg.result())\n",
        "    trange.set_postfix(loss=f\"{epoch_loss_avg.result():.4f}\")"
      ]
    },
    {
      "cell_type": "code",
      "execution_count": null,
      "metadata": {
        "jupyter": {
          "outputs_hidden": false
        },
        "colab": {
          "base_uri": "https://localhost:8080/",
          "height": 430
        },
        "id": "Zt-3DpgQON4U",
        "outputId": "c206bba8-0b37-49c1-865c-5abc6b951e0d"
      },
      "outputs": [
        {
          "output_type": "display_data",
          "data": {
            "text/plain": [
              "<Figure size 640x480 with 1 Axes>"
            ],
            "image/png": "[encoded data removed]"
          },
          "metadata": {}
        }
      ],
      "source": [
        "_ = plt.plot(train_loss_results)"
      ]
    },
    {
      "cell_type": "code",
      "source": [
        "plt.plot(train_loss_results)\n",
        "plt.xlabel(\"Epochs\")\n",
        "plt.ylabel(\"Loss\")\n",
        "plt.savefig('loss.pdf')"
      ],
      "metadata": {
        "colab": {
          "base_uri": "https://localhost:8080/",
          "height": 449
        },
        "id": "_gal3pnHO26b",
        "outputId": "2c993f87-fa0f-41e5-dceb-976291a911ff"
      },
      "execution_count": null,
      "outputs": [
        {
          "output_type": "display_data",
          "data": {
            "text/plain": [
              "<Figure size 640x480 with 1 Axes>"
            ],
            "image/png": "[encoded data removed]"
          },
          "metadata": {}
        }
      ]
    },
    {
      "cell_type": "code",
      "source": [
        "model.summary()"
      ],
      "metadata": {
        "colab": {
          "base_uri": "https://localhost:8080/"
        },
        "id": "3Nh3GcHURGH_",
        "outputId": "5c92bb42-f069-4e0a-a3bc-88c622e8daea"
      },
      "execution_count": null,
      "outputs": [
        {
          "output_type": "stream",
          "name": "stdout",
          "text": [
            "Model: \"model_22\"\n",
            "_________________________________________________________________\n",
            " Layer (type)                Output Shape              Param #   \n",
            "=================================================================\n",
            " trans_u_net_38 (TransUNet)  multiple                  7336099   \n",
            "                                                                 \n",
            " trans_u_net_39 (TransUNet)  multiple                  0 (unused)\n",
            "                                                                 \n",
            "=================================================================\n",
            "Total params: 7,336,099\n",
            "Trainable params: 7,336,099\n",
            "Non-trainable params: 0\n",
            "_________________________________________________________________\n"
          ]
        }
      ]
    },
    {
      "cell_type": "code",
      "execution_count": null,
      "metadata": {
        "jupyter": {
          "outputs_hidden": false
        },
        "id": "9rCGRcv2ON4U"
      },
      "outputs": [],
      "source": [
        "samples = model.sample(\n",
        "    num_samples=6,\n",
        "    iterations=100\n",
        ")"
      ]
    },
    {
      "cell_type": "code",
      "execution_count": null,
      "metadata": {
        "jupyter": {
          "outputs_hidden": false
        },
        "colab": {
          "base_uri": "https://localhost:8080/",
          "height": 438
        },
        "id": "INmeEt36ON4V",
        "outputId": "898a549b-d22c-4b9c-c021-7e8a10e3b423"
      },
      "outputs": [
        {
          "output_type": "display_data",
          "data": {
            "text/plain": [
              "<Figure size 640x480 with 6 Axes>"
            ],
            "image/png": "[encoded data removed]"
          },
          "metadata": {}
        }
      ],
      "source": [
        "fig, axs = plt.subplots(nrows=2, ncols=3, tight_layout=True)\n",
        "for i, ax in enumerate(axs.ravel()):\n",
        "  ax.imshow(samples[i])\n",
        "  ax.set_xticks([])\n",
        "  ax.set_yticks([])\n",
        "  ax.set_xticklabels(\"\")\n",
        "  ax.set_yticklabels(\"\")\n",
        "  plt.savefig(\"results.pdf\")"
      ]
    },
    {
      "cell_type": "code",
      "source": [],
      "metadata": {
        "id": "jVw_spHhTyyU"
      },
      "execution_count": null,
      "outputs": []
    }
  ],
  "metadata": {
    "kernelspec": {
      "display_name": "Python 3 (ipykernel)",
      "language": "python",
      "name": "python3"
    },
    "language_info": {
      "codemirror_mode": {
        "name": "ipython",
        "version": 3
      },
      "file_extension": ".py",
      "mimetype": "text/x-python",
      "name": "python",
      "nbconvert_exporter": "python",
      "pygments_lexer": "ipython3",
      "version": "3.9.16"
    },
    "colab": {
      "provenance": [],
      "gpuType": "T4",
      "collapsed_sections": [
        "LZ9WZ-JnON37",
        "cCavler_ON4E",
        "PiKlxaHDON4H"
      ]
    },
    "accelerator": "GPU",
    "gpuClass": "standard"
  },
  "nbformat": 4,
  "nbformat_minor": 0
}